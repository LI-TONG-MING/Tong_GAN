{
  "nbformat": 4,
  "nbformat_minor": 0,
  "metadata": {
    "colab": {
      "provenance": []
    },
    "kernelspec": {
      "name": "python3",
      "display_name": "Python 3"
    },
    "language_info": {
      "name": "python"
    }
  },
  "cells": [
    {
      "cell_type": "code",
      "execution_count": 1,
      "metadata": {
        "id": "F5QjjbQWkx5m"
      },
      "outputs": [],
      "source": [
        "import tensorflow as tf\n",
        "from tensorflow.keras import datasets, layers, models\n",
        "import matplotlib.pyplot as plt"
      ]
    },
    {
      "cell_type": "code",
      "source": [
        "# 加載並準備MNIST 數據集\n",
        "(train_images, train_labels), (test_images, test_labels) = datasets.mnist.load_data()\n",
        "train_images, test_images = train_images / 255.0, test_images / 255.0"
      ],
      "metadata": {
        "id": "V7GHgXIJk8rr"
      },
      "execution_count": 2,
      "outputs": []
    },
    {
      "cell_type": "code",
      "source": [
        "# 將圖像數據 reshape 為一為向量\n",
        "train_images = train_images.reshape((60000, 28 * 28))\n",
        "#train_images = train_images.reshape((60000, 28, 28, 1))     ## 多思，是CNN 才是這樣填的嗎\n",
        "test_images = test_images.reshape((10000, 28 * 28))\n",
        "#test_images  = test_images.reshpae((10000, 28, 28, 1))     ## 多思，是CNN 才是這樣填的嗎"
      ],
      "metadata": {
        "id": "37gA5wBBlAhU"
      },
      "execution_count": 3,
      "outputs": []
    },
    {
      "cell_type": "code",
      "source": [
        "#建構DNN 模型\n",
        "model = models.Sequential()\n",
        "model.add(layers.Dense(128, activation='relu', input_shape=(28 * 28,)))    #### 多思，所以這個把這個轉換到一維???\n",
        "model.add(layers.Dropout(0.2))\n",
        "model.add(layers.Dense(10, activation='softmax'))"
      ],
      "metadata": {
        "id": "AHKiaavalRd6"
      },
      "execution_count": 4,
      "outputs": []
    },
    {
      "cell_type": "code",
      "source": [
        "# 編譯模型\n",
        "model.compile(optimizer='adam',\n",
        "              loss='sparse_categorical_crossentropy',\n",
        "              metrics=['accuracy'])"
      ],
      "metadata": {
        "id": "IEjTu2vjlYDC"
      },
      "execution_count": 5,
      "outputs": []
    },
    {
      "cell_type": "code",
      "source": [
        "# 訓練模型\n",
        "model.fit(train_images, train_labels, epochs=5, validation_data=(test_images, test_labels))\n"
      ],
      "metadata": {
        "colab": {
          "base_uri": "https://localhost:8080/"
        },
        "id": "jufVvGh6lbmY",
        "outputId": "4896e6c8-c675-4601-b5ee-97511223630d"
      },
      "execution_count": 6,
      "outputs": [
        {
          "output_type": "stream",
          "name": "stdout",
          "text": [
            "Epoch 1/5\n",
            "1875/1875 [==============================] - 17s 8ms/step - loss: 0.2999 - accuracy: 0.9126 - val_loss: 0.1447 - val_accuracy: 0.9561\n",
            "Epoch 2/5\n",
            "1875/1875 [==============================] - 6s 3ms/step - loss: 0.1458 - accuracy: 0.9573 - val_loss: 0.1045 - val_accuracy: 0.9673\n",
            "Epoch 3/5\n",
            "1875/1875 [==============================] - 8s 4ms/step - loss: 0.1097 - accuracy: 0.9673 - val_loss: 0.0878 - val_accuracy: 0.9728\n",
            "Epoch 4/5\n",
            "1875/1875 [==============================] - 6s 3ms/step - loss: 0.0898 - accuracy: 0.9721 - val_loss: 0.0787 - val_accuracy: 0.9749\n",
            "Epoch 5/5\n",
            "1875/1875 [==============================] - 8s 4ms/step - loss: 0.0743 - accuracy: 0.9771 - val_loss: 0.0751 - val_accuracy: 0.9775\n"
          ]
        },
        {
          "output_type": "execute_result",
          "data": {
            "text/plain": [
              "<keras.src.callbacks.History at 0x7d547da81b10>"
            ]
          },
          "metadata": {},
          "execution_count": 6
        }
      ]
    },
    {
      "cell_type": "code",
      "source": [
        "# 評估模型\n",
        "test_loss, test_acc = model.evaluate(test_images, test_labels)\n",
        "print(\"測試模型準確度:\", test_acc)"
      ],
      "metadata": {
        "colab": {
          "base_uri": "https://localhost:8080/"
        },
        "id": "U1toX9yDle_-",
        "outputId": "8c119686-de4c-4c57-8202-2ff354f4ccbd"
      },
      "execution_count": 7,
      "outputs": [
        {
          "output_type": "stream",
          "name": "stdout",
          "text": [
            "313/313 [==============================] - 1s 2ms/step - loss: 0.0751 - accuracy: 0.9775\n",
            "測試模型準確度: 0.9775000214576721\n"
          ]
        }
      ]
    },
    {
      "cell_type": "code",
      "source": [
        "print(test_images[1].shape)"
      ],
      "metadata": {
        "colab": {
          "base_uri": "https://localhost:8080/"
        },
        "id": "y7URJFgsvDcE",
        "outputId": "6e5552ae-aaf8-4b8e-d28f-eba11a3a189f"
      },
      "execution_count": 8,
      "outputs": [
        {
          "output_type": "stream",
          "name": "stdout",
          "text": [
            "(784,)\n"
          ]
        }
      ]
    },
    {
      "cell_type": "code",
      "source": [
        "!dir\n",
        "#他的資料夾位置會是在 content 底下這樣。   #這個裡需要去上傳檔案。"
      ],
      "metadata": {
        "colab": {
          "base_uri": "https://localhost:8080/"
        },
        "id": "3fjyiZc3mB1q",
        "outputId": "93456431-626b-46d8-e0ae-36fdb14301b7"
      },
      "execution_count": 9,
      "outputs": [
        {
          "output_type": "stream",
          "name": "stdout",
          "text": [
            "7.png  drive  sample_data\n"
          ]
        }
      ]
    },
    {
      "cell_type": "code",
      "source": [
        "#from matplotlib import Image\n",
        "from PIL import Image\n",
        "import numpy as np\n",
        "image = Image.open(\"7.png\").convert('L') ## 將圖像轉換成灰階\n",
        "\n",
        "image = image.resize((28*28,1))      ### 調整大小為 28 *28 像素\n",
        "#image = image.resize((28 * 28,1))      ### 調整大小為 28 *28 像素\n",
        "image = np.array(image) /255.0 #標準化像素質\n",
        "\n",
        "#image = image.reshape(1,28,28) #添加批次維度"
      ],
      "metadata": {
        "id": "Vz4AQW1imHWA"
      },
      "execution_count": 10,
      "outputs": []
    },
    {
      "cell_type": "code",
      "source": [
        "'''\n",
        "import matplotlib.pyplot as plt\n",
        "import matplotlib.image as img\n",
        "image12 = img.imread('7.png')                       # 讀取圖片\n",
        "plt.imshow(image12)                                    # 在圖表中繪製圖片\n",
        "plt.show()\n",
        "'''\n",
        "#顯示圖片\n",
        "plt.imshow(image.reshape(28,28), cmap='gray')                  ### 多思，這個也是轉不回來的對八!\n",
        "plt.show"
      ],
      "metadata": {
        "colab": {
          "base_uri": "https://localhost:8080/",
          "height": 447
        },
        "id": "kND5zNYRmYpR",
        "outputId": "40f64c33-76c0-4991-9c21-78bef7f2b5c7"
      },
      "execution_count": 11,
      "outputs": [
        {
          "output_type": "execute_result",
          "data": {
            "text/plain": [
              "<function matplotlib.pyplot.show(close=None, block=None)>"
            ]
          },
          "metadata": {},
          "execution_count": 11
        },
        {
          "output_type": "display_data",
          "data": {
            "text/plain": [
              "<Figure size 640x480 with 1 Axes>"
            ],
            "image/png": "[encoded data removed]"
          },
          "metadata": {}
        }
      ]
    },
    {
      "cell_type": "code",
      "source": [
        "# 進行預測\n",
        "predictions = model.predict(image)\n",
        "predicted_label = np.argmax(predictions)\n",
        "\n",
        "print(\"预测结果:\", predicted_label)"
      ],
      "metadata": {
        "colab": {
          "base_uri": "https://localhost:8080/"
        },
        "id": "2xIsl1vKmbxe",
        "outputId": "4b984c2c-c4bb-4b9b-ae80-debdbab48c5d"
      },
      "execution_count": 12,
      "outputs": [
        {
          "output_type": "stream",
          "name": "stdout",
          "text": [
            "1/1 [==============================] - 0s 82ms/step\n",
            "预测结果: 5\n"
          ]
        }
      ]
    },
    {
      "cell_type": "code",
      "source": [],
      "metadata": {
        "id": "7yj9Ftb2memI"
      },
      "execution_count": 12,
      "outputs": []
    }
  ]
}